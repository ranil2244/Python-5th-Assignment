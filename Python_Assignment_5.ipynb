{
  "nbformat": 4,
  "nbformat_minor": 0,
  "metadata": {
    "colab": {
      "provenance": []
    },
    "kernelspec": {
      "name": "python3",
      "display_name": "Python 3"
    },
    "language_info": {
      "name": "python"
    }
  },
  "cells": [
    {
      "cell_type": "markdown",
      "source": [
        "## **Exercise 1: (score : 1)**\n",
        "Write a Python program to read a file and display its contents\n"
      ],
      "metadata": {
        "id": "hDx6GEo3ohMK"
      }
    },
    {
      "cell_type": "code",
      "execution_count": 1,
      "metadata": {
        "colab": {
          "base_uri": "https://localhost:8080/"
        },
        "id": "GQ6vzj5ba64W",
        "outputId": "1422f400-088e-43ef-d0f4-2acdeafb2304"
      },
      "outputs": [
        {
          "output_type": "stream",
          "name": "stdout",
          "text": [
            "Enter the filename: untitled.txt\n",
            "Employees Details\n",
            "\n",
            "Name        designation       Salary\n",
            "Sabu        Accountant        35000\n",
            "Ram         Driver            25000\n",
            "Sanu        Doctor            75000\n",
            "Manu        Teacher           34000\n",
            "Binu        Conductor         20000\n"
          ]
        }
      ],
      "source": [
        "filename = input(\"Enter the filename: \")\n",
        "\n",
        "try:\n",
        "    with open(filename, 'r') as file:\n",
        "        content = file.read()\n",
        "        print(content)\n",
        "except FileNotFoundError:\n",
        "    print(\"The file does not exist.\")"
      ]
    },
    {
      "cell_type": "markdown",
      "source": [
        "\n",
        "# **Exercise 2**: (score : 1)\n",
        "Write a Python program to copy the contents of one file to another file\n"
      ],
      "metadata": {
        "id": "5737S4guo4ik"
      }
    },
    {
      "cell_type": "code",
      "source": [
        "source_file = input(\"Enter the source filename: \")\n",
        "destination_file = input(\"Enter the destination filename: \")\n",
        "\n",
        "try:\n",
        "   with open(source_file, 'r') as src:\n",
        "        content = src.read()\n",
        "   with open(destination_file, 'w') as dest:\n",
        "        dest.write(content)\n",
        "\n",
        "   print(\"File copied successfully!\")\n",
        "\n",
        "except FileNotFoundError:\n",
        "    print(\"Source file does not exist.\")\n",
        "except Exception as e:\n",
        "    print(f\"An error occurred: {e}\")\n"
      ],
      "metadata": {
        "colab": {
          "base_uri": "https://localhost:8080/"
        },
        "id": "QQ3f4eanbKtf",
        "outputId": "a48c4ca9-cfab-4dbc-9b9d-b08ea12d7e8b"
      },
      "execution_count": 2,
      "outputs": [
        {
          "output_type": "stream",
          "name": "stdout",
          "text": [
            "Enter the source filename: untitled.txt\n",
            "Enter the destination filename: Python is very good.txt\n",
            "File copied successfully!\n"
          ]
        }
      ]
    },
    {
      "cell_type": "markdown",
      "source": [
        "# **Exercise 3**: (score : 2)\n",
        "Write a Python program to read the content of a file and count the total number of words in that file.\n"
      ],
      "metadata": {
        "id": "BC_ee3M0pKwS"
      }
    },
    {
      "cell_type": "code",
      "source": [
        "filename = input(\"Enter the filename: \")\n",
        "\n",
        "try:\n",
        "    with open(filename, 'r') as file:\n",
        "        content = file.read()\n",
        "        words = content.split()\n",
        "        print(f\"Total number of words: {len(words)}\")\n",
        "except FileNotFoundError:\n",
        "    print(\"The file does not exist.\")"
      ],
      "metadata": {
        "colab": {
          "base_uri": "https://localhost:8080/"
        },
        "id": "AYsawykDbf5F",
        "outputId": "ad6d5afe-6415-4097-f88a-b9ad207fe9fe"
      },
      "execution_count": 3,
      "outputs": [
        {
          "output_type": "stream",
          "name": "stdout",
          "text": [
            "Enter the filename: untitled.txt\n",
            "Total number of words: 20\n"
          ]
        }
      ]
    },
    {
      "cell_type": "markdown",
      "source": [
        "# **Exercise 4**: (score : 1)\n",
        "Write a Python program that prompts the user to input a string and converts it to an integer. Use try-except blocks to handle any exceptions that might occur\n"
      ],
      "metadata": {
        "id": "J3sLUpvIpZuj"
      }
    },
    {
      "cell_type": "code",
      "source": [
        "user_input = input(\"Enter a number: \")\n",
        "\n",
        "try:\n",
        "    number = int(user_input)\n",
        "    print(f\"The integer is: {number}\")\n",
        "except ValueError:\n",
        "    print(\"That's not a valid integer.\")"
      ],
      "metadata": {
        "colab": {
          "base_uri": "https://localhost:8080/"
        },
        "id": "VyQuc9_AcJn9",
        "outputId": "042de279-4558-4473-f293-df278bdd9324"
      },
      "execution_count": 4,
      "outputs": [
        {
          "output_type": "stream",
          "name": "stdout",
          "text": [
            "Enter a number: 5\n",
            "The integer is: 5\n"
          ]
        }
      ]
    },
    {
      "cell_type": "markdown",
      "source": [
        "##**Exercise 5**: (score : 1)\n",
        "Write a Python program that prompts the user to input a list of integers and raises an exception if any of the integers in the list are negative.\n"
      ],
      "metadata": {
        "id": "xWmQLSR6p7sH"
      }
    },
    {
      "cell_type": "code",
      "source": [
        "try:\n",
        "    numbers = list(map(int, input(\"Enter a list of integers separated by space: \").split()))\n",
        "\n",
        "    for num in numbers:\n",
        "        if num < 0:\n",
        "            raise ValueError(\"Negative number detected!\")\n",
        "\n",
        "    print(\"All numbers are non-negative.\")\n",
        "except ValueError as e:\n",
        "    print(e)\n"
      ],
      "metadata": {
        "colab": {
          "base_uri": "https://localhost:8080/"
        },
        "id": "5JO9-NWVcUVP",
        "outputId": "a2621b4d-d8fb-4640-c78f-74c66b9e4d86"
      },
      "execution_count": 5,
      "outputs": [
        {
          "output_type": "stream",
          "name": "stdout",
          "text": [
            "Enter a list of integers separated by space: 5 -3 6\n",
            "Negative number detected!\n"
          ]
        }
      ]
    },
    {
      "cell_type": "markdown",
      "source": [
        "\n",
        "##**Exercise 6**: (score : 2)\n",
        "Write a Python program that prompts the user to input a list of integers and computes the average of those integers. Use try-except blocks to handle any exceptions that might occur.use the finally clause to print a message indicating that the program has finished running.\n"
      ],
      "metadata": {
        "id": "wzUoNqjaqPPf"
      }
    },
    {
      "cell_type": "code",
      "source": [
        "try:\n",
        "    numbers = list(map(int, input(\"Enter a list of integers separated by space: \").split()))\n",
        "\n",
        "    if not numbers:\n",
        "        raise ValueError(\"List cannot be empty!\")\n",
        "\n",
        "    average = sum(numbers) / len(numbers)\n",
        "    print(f\"The average of the numbers is: {average}\")\n",
        "except ValueError as e:\n",
        "    print(f\"Error: {e}\")\n",
        "finally:\n",
        "    print(\"Program execution is completed.\")\n"
      ],
      "metadata": {
        "colab": {
          "base_uri": "https://localhost:8080/"
        },
        "id": "4R_FKxpynk0i",
        "outputId": "ecba1ab9-f955-4ba2-f41a-8f6601834f51"
      },
      "execution_count": 6,
      "outputs": [
        {
          "output_type": "stream",
          "name": "stdout",
          "text": [
            "Enter a list of integers separated by space: 2 -3 8\n",
            "The average of the numbers is: 2.3333333333333335\n",
            "Program execution is completed.\n"
          ]
        }
      ]
    },
    {
      "cell_type": "markdown",
      "source": [
        "#**Exercise 7** : (score : 2)\n",
        "Write a Python program that prompts the user to input a filename and writes a string to that file. Use try-except blocks to handle any exceptions that might occur and print a welcome message if there is no exception occurred.\n"
      ],
      "metadata": {
        "id": "jNv2SBYGqg65"
      }
    },
    {
      "cell_type": "code",
      "source": [
        "filename = input(\"Enter the filename to write to: \")\n",
        "text_to_write = input(\"Enter the text to write to the file: \")\n",
        "\n",
        "try:\n",
        "    with open(filename, 'w') as file:\n",
        "        file.write(text_to_write)\n",
        "    print(\"Text written to the file successfully. Welcome!\")\n",
        "except Exception as e:\n",
        "    print(f\"An error occurred: {e}\")\n"
      ],
      "metadata": {
        "colab": {
          "base_uri": "https://localhost:8080/"
        },
        "id": "QdVuUO7gnzG-",
        "outputId": "6c822d4d-fa25-40cb-f5a7-55e84a6fb2dc"
      },
      "execution_count": 7,
      "outputs": [
        {
          "output_type": "stream",
          "name": "stdout",
          "text": [
            "Enter the filename to write to: untitled.txt\n",
            "Enter the text to write to the file: Python is very good.txt\n",
            "Text written to the file successfully. Welcome!\n"
          ]
        }
      ]
    }
  ]
}